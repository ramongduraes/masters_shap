{
 "cells": [
  {
   "cell_type": "code",
   "execution_count": 1,
   "metadata": {},
   "outputs": [
    {
     "ename": "ModuleNotFoundError",
     "evalue": "No module named 'numpy'",
     "output_type": "error",
     "traceback": [
      "\u001b[0;31m---------------------------------------------------------------------------\u001b[0m",
      "\u001b[0;31mModuleNotFoundError\u001b[0m                       Traceback (most recent call last)",
      "\u001b[0;32m<ipython-input-1-f47a3e395d30>\u001b[0m in \u001b[0;36m<module>\u001b[0;34m\u001b[0m\n\u001b[0;32m----> 1\u001b[0;31m \u001b[0;32mimport\u001b[0m \u001b[0mnumpy\u001b[0m \u001b[0;32mas\u001b[0m \u001b[0mnp\u001b[0m\u001b[0;34m\u001b[0m\u001b[0;34m\u001b[0m\u001b[0m\n\u001b[0m\u001b[1;32m      2\u001b[0m \u001b[0;32mimport\u001b[0m \u001b[0mpandas\u001b[0m \u001b[0;32mas\u001b[0m \u001b[0mpd\u001b[0m\u001b[0;34m\u001b[0m\u001b[0;34m\u001b[0m\u001b[0m\n\u001b[1;32m      3\u001b[0m \u001b[0;34m\u001b[0m\u001b[0m\n\u001b[1;32m      4\u001b[0m \u001b[0;32mimport\u001b[0m \u001b[0mmatplotlib\u001b[0m\u001b[0;34m.\u001b[0m\u001b[0mpyplot\u001b[0m \u001b[0;32mas\u001b[0m \u001b[0mplt\u001b[0m\u001b[0;34m\u001b[0m\u001b[0;34m\u001b[0m\u001b[0m\n\u001b[1;32m      5\u001b[0m \u001b[0mget_ipython\u001b[0m\u001b[0;34m(\u001b[0m\u001b[0;34m)\u001b[0m\u001b[0;34m.\u001b[0m\u001b[0mrun_line_magic\u001b[0m\u001b[0;34m(\u001b[0m\u001b[0;34m'matplotlib'\u001b[0m\u001b[0;34m,\u001b[0m \u001b[0;34m'inline'\u001b[0m\u001b[0;34m)\u001b[0m\u001b[0;34m\u001b[0m\u001b[0;34m\u001b[0m\u001b[0m\n",
      "\u001b[0;31mModuleNotFoundError\u001b[0m: No module named 'numpy'"
     ]
    }
   ],
   "source": [
    "import numpy as np\n",
    "import pandas as pd\n",
    "\n",
    "import matplotlib.pyplot as plt\n",
    "%matplotlib inline\n",
    "\n",
    "import random\n",
    "random.seed(4682)\n",
    "\n",
    "from sklearn.feature_selection import mutual_info_regression\n",
    "from sklearn.feature_selection import mutual_info_classif\n",
    "from sklearn.discriminant_analysis import LinearDiscriminantAnalysis as lda\n",
    "from sklearn import preprocessing\n",
    "from sklearn.model_selection import train_test_split\n",
    "from sklearn.metrics import accuracy_score\n",
    "from sklearn.preprocessing import StandardScaler\n",
    "\n",
    "# Importing xgboost and shap\n",
    "import xgboost\n",
    "import shap\n",
    "\n",
    "# load JS visualization code to notebook\n",
    "shap.initjs()"
   ]
  },
  {
   "cell_type": "markdown",
   "metadata": {},
   "source": [
    "# Importing data"
   ]
  },
  {
   "cell_type": "code",
   "execution_count": 183,
   "metadata": {},
   "outputs": [
    {
     "data": {
      "text/plain": [
       "['Study',\n",
       " 'Run',\n",
       " 'vconst_corr',\n",
       " 'vconst_2',\n",
       " 'vconst_3',\n",
       " 'vconst_4',\n",
       " 'vconst_5',\n",
       " 'vconst_7',\n",
       " 'ah_corr',\n",
       " 'ah_bolus',\n",
       " 'slm_corr',\n",
       " 'efficiency_factor',\n",
       " 'tidal_mix_max',\n",
       " 'vertical_decay_scale',\n",
       " 'convect_corr',\n",
       " 'bckgrnd_vdc1',\n",
       " 'bckgrnd_vdc_ban',\n",
       " 'bckgrnd_vdc_eq',\n",
       " 'bckgrnd_vdc_psim',\n",
       " 'Prandtl',\n",
       " 'outcome']"
      ]
     },
     "execution_count": 183,
     "metadata": {},
     "output_type": "execute_result"
    }
   ],
   "source": [
    "data = np.genfromtxt('data/pop/pop_failures.dat',delimiter='',skip_header = 1)\n",
    "\n",
    "df = pd.read_csv (\"data/pop/pop_failures.dat\", sep=',', header=0)\n",
    "columns = [s for s in (df.columns[0].split(' ')) if s]\n",
    "columns"
   ]
  },
  {
   "cell_type": "code",
   "execution_count": 184,
   "metadata": {},
   "outputs": [
    {
     "data": {
      "text/html": [
       "<div>\n",
       "<style scoped>\n",
       "    .dataframe tbody tr th:only-of-type {\n",
       "        vertical-align: middle;\n",
       "    }\n",
       "\n",
       "    .dataframe tbody tr th {\n",
       "        vertical-align: top;\n",
       "    }\n",
       "\n",
       "    .dataframe thead th {\n",
       "        text-align: right;\n",
       "    }\n",
       "</style>\n",
       "<table border=\"1\" class=\"dataframe\">\n",
       "  <thead>\n",
       "    <tr style=\"text-align: right;\">\n",
       "      <th></th>\n",
       "      <th>Study</th>\n",
       "      <th>Run</th>\n",
       "      <th>vconst_corr</th>\n",
       "      <th>vconst_2</th>\n",
       "      <th>vconst_3</th>\n",
       "      <th>vconst_4</th>\n",
       "      <th>vconst_5</th>\n",
       "      <th>vconst_7</th>\n",
       "      <th>ah_corr</th>\n",
       "      <th>ah_bolus</th>\n",
       "      <th>...</th>\n",
       "      <th>efficiency_factor</th>\n",
       "      <th>tidal_mix_max</th>\n",
       "      <th>vertical_decay_scale</th>\n",
       "      <th>convect_corr</th>\n",
       "      <th>bckgrnd_vdc1</th>\n",
       "      <th>bckgrnd_vdc_ban</th>\n",
       "      <th>bckgrnd_vdc_eq</th>\n",
       "      <th>bckgrnd_vdc_psim</th>\n",
       "      <th>Prandtl</th>\n",
       "      <th>outcome</th>\n",
       "    </tr>\n",
       "  </thead>\n",
       "  <tbody>\n",
       "    <tr>\n",
       "      <th>0</th>\n",
       "      <td>1.0</td>\n",
       "      <td>1.0</td>\n",
       "      <td>0.859036</td>\n",
       "      <td>0.927825</td>\n",
       "      <td>0.252866</td>\n",
       "      <td>0.298838</td>\n",
       "      <td>0.170521</td>\n",
       "      <td>0.735936</td>\n",
       "      <td>0.428325</td>\n",
       "      <td>0.567947</td>\n",
       "      <td>...</td>\n",
       "      <td>0.245675</td>\n",
       "      <td>0.104226</td>\n",
       "      <td>0.869091</td>\n",
       "      <td>0.997518</td>\n",
       "      <td>0.448620</td>\n",
       "      <td>0.307522</td>\n",
       "      <td>0.858310</td>\n",
       "      <td>0.796997</td>\n",
       "      <td>0.869893</td>\n",
       "      <td>0.0</td>\n",
       "    </tr>\n",
       "    <tr>\n",
       "      <th>1</th>\n",
       "      <td>1.0</td>\n",
       "      <td>2.0</td>\n",
       "      <td>0.606041</td>\n",
       "      <td>0.457728</td>\n",
       "      <td>0.359448</td>\n",
       "      <td>0.306957</td>\n",
       "      <td>0.843331</td>\n",
       "      <td>0.934851</td>\n",
       "      <td>0.444572</td>\n",
       "      <td>0.828015</td>\n",
       "      <td>...</td>\n",
       "      <td>0.616870</td>\n",
       "      <td>0.975786</td>\n",
       "      <td>0.914344</td>\n",
       "      <td>0.845247</td>\n",
       "      <td>0.864152</td>\n",
       "      <td>0.346713</td>\n",
       "      <td>0.356573</td>\n",
       "      <td>0.438447</td>\n",
       "      <td>0.512256</td>\n",
       "      <td>1.0</td>\n",
       "    </tr>\n",
       "    <tr>\n",
       "      <th>2</th>\n",
       "      <td>1.0</td>\n",
       "      <td>3.0</td>\n",
       "      <td>0.997600</td>\n",
       "      <td>0.373238</td>\n",
       "      <td>0.517399</td>\n",
       "      <td>0.504993</td>\n",
       "      <td>0.618903</td>\n",
       "      <td>0.605571</td>\n",
       "      <td>0.746225</td>\n",
       "      <td>0.195928</td>\n",
       "      <td>...</td>\n",
       "      <td>0.679355</td>\n",
       "      <td>0.803413</td>\n",
       "      <td>0.643995</td>\n",
       "      <td>0.718441</td>\n",
       "      <td>0.924775</td>\n",
       "      <td>0.315371</td>\n",
       "      <td>0.250642</td>\n",
       "      <td>0.285636</td>\n",
       "      <td>0.365858</td>\n",
       "      <td>1.0</td>\n",
       "    </tr>\n",
       "    <tr>\n",
       "      <th>3</th>\n",
       "      <td>1.0</td>\n",
       "      <td>4.0</td>\n",
       "      <td>0.783408</td>\n",
       "      <td>0.104055</td>\n",
       "      <td>0.197533</td>\n",
       "      <td>0.421837</td>\n",
       "      <td>0.742056</td>\n",
       "      <td>0.490828</td>\n",
       "      <td>0.005525</td>\n",
       "      <td>0.392123</td>\n",
       "      <td>...</td>\n",
       "      <td>0.471463</td>\n",
       "      <td>0.597879</td>\n",
       "      <td>0.761659</td>\n",
       "      <td>0.362751</td>\n",
       "      <td>0.912819</td>\n",
       "      <td>0.977971</td>\n",
       "      <td>0.845921</td>\n",
       "      <td>0.699431</td>\n",
       "      <td>0.475987</td>\n",
       "      <td>1.0</td>\n",
       "    </tr>\n",
       "    <tr>\n",
       "      <th>4</th>\n",
       "      <td>1.0</td>\n",
       "      <td>5.0</td>\n",
       "      <td>0.406250</td>\n",
       "      <td>0.513199</td>\n",
       "      <td>0.061812</td>\n",
       "      <td>0.635837</td>\n",
       "      <td>0.844798</td>\n",
       "      <td>0.441502</td>\n",
       "      <td>0.191926</td>\n",
       "      <td>0.487546</td>\n",
       "      <td>...</td>\n",
       "      <td>0.551543</td>\n",
       "      <td>0.743877</td>\n",
       "      <td>0.312349</td>\n",
       "      <td>0.650223</td>\n",
       "      <td>0.522261</td>\n",
       "      <td>0.043545</td>\n",
       "      <td>0.376660</td>\n",
       "      <td>0.280098</td>\n",
       "      <td>0.132283</td>\n",
       "      <td>1.0</td>\n",
       "    </tr>\n",
       "  </tbody>\n",
       "</table>\n",
       "<p>5 rows × 21 columns</p>\n",
       "</div>"
      ],
      "text/plain": [
       "   Study  Run  vconst_corr  vconst_2  vconst_3  vconst_4  vconst_5  vconst_7  \\\n",
       "0    1.0  1.0     0.859036  0.927825  0.252866  0.298838  0.170521  0.735936   \n",
       "1    1.0  2.0     0.606041  0.457728  0.359448  0.306957  0.843331  0.934851   \n",
       "2    1.0  3.0     0.997600  0.373238  0.517399  0.504993  0.618903  0.605571   \n",
       "3    1.0  4.0     0.783408  0.104055  0.197533  0.421837  0.742056  0.490828   \n",
       "4    1.0  5.0     0.406250  0.513199  0.061812  0.635837  0.844798  0.441502   \n",
       "\n",
       "    ah_corr  ah_bolus  ...  efficiency_factor  tidal_mix_max  \\\n",
       "0  0.428325  0.567947  ...           0.245675       0.104226   \n",
       "1  0.444572  0.828015  ...           0.616870       0.975786   \n",
       "2  0.746225  0.195928  ...           0.679355       0.803413   \n",
       "3  0.005525  0.392123  ...           0.471463       0.597879   \n",
       "4  0.191926  0.487546  ...           0.551543       0.743877   \n",
       "\n",
       "   vertical_decay_scale  convect_corr  bckgrnd_vdc1  bckgrnd_vdc_ban  \\\n",
       "0              0.869091      0.997518      0.448620         0.307522   \n",
       "1              0.914344      0.845247      0.864152         0.346713   \n",
       "2              0.643995      0.718441      0.924775         0.315371   \n",
       "3              0.761659      0.362751      0.912819         0.977971   \n",
       "4              0.312349      0.650223      0.522261         0.043545   \n",
       "\n",
       "   bckgrnd_vdc_eq  bckgrnd_vdc_psim   Prandtl  outcome  \n",
       "0        0.858310          0.796997  0.869893      0.0  \n",
       "1        0.356573          0.438447  0.512256      1.0  \n",
       "2        0.250642          0.285636  0.365858      1.0  \n",
       "3        0.845921          0.699431  0.475987      1.0  \n",
       "4        0.376660          0.280098  0.132283      1.0  \n",
       "\n",
       "[5 rows x 21 columns]"
      ]
     },
     "execution_count": 184,
     "metadata": {},
     "output_type": "execute_result"
    }
   ],
   "source": [
    "df = pd.DataFrame(data, columns=columns)\n",
    "df.head()"
   ]
  },
  {
   "cell_type": "markdown",
   "metadata": {},
   "source": [
    "# Splitting data"
   ]
  },
  {
   "cell_type": "code",
   "execution_count": 185,
   "metadata": {},
   "outputs": [],
   "source": [
    "# split data into train and test sets\n",
    "seed = 7\n",
    "test_size = 0.33\n",
    "X = StandardScaler().fit_transform(df.drop('outcome', axis=1))\n",
    "X_train, X_test, y_train, y_test = train_test_split(X, df.outcome, test_size=test_size, random_state=seed)"
   ]
  },
  {
   "cell_type": "markdown",
   "metadata": {},
   "source": [
    "# Training Random Forest Model"
   ]
  },
  {
   "cell_type": "code",
   "execution_count": 186,
   "metadata": {},
   "outputs": [],
   "source": [
    "from sklearn.ensemble import RandomForestClassifier\n",
    "model = RandomForestClassifier(max_depth=5, n_estimators=10, max_features=1)"
   ]
  },
  {
   "cell_type": "code",
   "execution_count": 187,
   "metadata": {},
   "outputs": [
    {
     "data": {
      "text/plain": [
       "RandomForestClassifier(max_depth=5, max_features=1, n_estimators=10)"
      ]
     },
     "execution_count": 187,
     "metadata": {},
     "output_type": "execute_result"
    }
   ],
   "source": [
    "model.fit(X_train, y_train)"
   ]
  },
  {
   "cell_type": "code",
   "execution_count": 188,
   "metadata": {},
   "outputs": [
    {
     "name": "stdout",
     "output_type": "stream",
     "text": [
      "Accuracy: 92.18%\n"
     ]
    }
   ],
   "source": [
    "# make predictions for test data\n",
    "y_pred = model.predict(X_test)\n",
    "predictions = [round(value) for value in y_pred]\n",
    "# evaluate predictions\n",
    "accuracy = accuracy_score(y_test, predictions)\n",
    "print(\"Accuracy: %.2f%%\" % (accuracy * 100.0))"
   ]
  },
  {
   "cell_type": "markdown",
   "metadata": {},
   "source": [
    "# SHAP"
   ]
  },
  {
   "cell_type": "code",
   "execution_count": 189,
   "metadata": {},
   "outputs": [],
   "source": [
    "# explain the model's predictions using SHAP\n",
    "# (same syntax works for LightGBM, CatBoost, scikit-learn and spark models)\n",
    "explainer = shap.TreeExplainer(model)"
   ]
  },
  {
   "cell_type": "code",
   "execution_count": 190,
   "metadata": {},
   "outputs": [],
   "source": [
    "shap_values = explainer.shap_values(X)"
   ]
  },
  {
   "cell_type": "code",
   "execution_count": 191,
   "metadata": {},
   "outputs": [
    {
     "data": {
      "text/html": [
       "<div>\n",
       "<style scoped>\n",
       "    .dataframe tbody tr th:only-of-type {\n",
       "        vertical-align: middle;\n",
       "    }\n",
       "\n",
       "    .dataframe tbody tr th {\n",
       "        vertical-align: top;\n",
       "    }\n",
       "\n",
       "    .dataframe thead th {\n",
       "        text-align: right;\n",
       "    }\n",
       "</style>\n",
       "<table border=\"1\" class=\"dataframe\">\n",
       "  <thead>\n",
       "    <tr style=\"text-align: right;\">\n",
       "      <th></th>\n",
       "      <th>Study</th>\n",
       "      <th>Run</th>\n",
       "      <th>vconst_corr</th>\n",
       "      <th>vconst_2</th>\n",
       "      <th>vconst_3</th>\n",
       "      <th>vconst_4</th>\n",
       "      <th>vconst_5</th>\n",
       "      <th>vconst_7</th>\n",
       "      <th>ah_corr</th>\n",
       "      <th>ah_bolus</th>\n",
       "      <th>slm_corr</th>\n",
       "      <th>efficiency_factor</th>\n",
       "      <th>tidal_mix_max</th>\n",
       "      <th>vertical_decay_scale</th>\n",
       "      <th>convect_corr</th>\n",
       "      <th>bckgrnd_vdc1</th>\n",
       "      <th>bckgrnd_vdc_ban</th>\n",
       "      <th>bckgrnd_vdc_eq</th>\n",
       "      <th>bckgrnd_vdc_psim</th>\n",
       "      <th>Prandtl</th>\n",
       "    </tr>\n",
       "  </thead>\n",
       "  <tbody>\n",
       "    <tr>\n",
       "      <th>0</th>\n",
       "      <td>1.0</td>\n",
       "      <td>1.0</td>\n",
       "      <td>0.859036</td>\n",
       "      <td>0.927825</td>\n",
       "      <td>0.252866</td>\n",
       "      <td>0.298838</td>\n",
       "      <td>0.170521</td>\n",
       "      <td>0.735936</td>\n",
       "      <td>0.428325</td>\n",
       "      <td>0.567947</td>\n",
       "      <td>0.474370</td>\n",
       "      <td>0.245675</td>\n",
       "      <td>0.104226</td>\n",
       "      <td>0.869091</td>\n",
       "      <td>0.997518</td>\n",
       "      <td>0.448620</td>\n",
       "      <td>0.307522</td>\n",
       "      <td>0.858310</td>\n",
       "      <td>0.796997</td>\n",
       "      <td>0.869893</td>\n",
       "    </tr>\n",
       "    <tr>\n",
       "      <th>1</th>\n",
       "      <td>1.0</td>\n",
       "      <td>2.0</td>\n",
       "      <td>0.606041</td>\n",
       "      <td>0.457728</td>\n",
       "      <td>0.359448</td>\n",
       "      <td>0.306957</td>\n",
       "      <td>0.843331</td>\n",
       "      <td>0.934851</td>\n",
       "      <td>0.444572</td>\n",
       "      <td>0.828015</td>\n",
       "      <td>0.296618</td>\n",
       "      <td>0.616870</td>\n",
       "      <td>0.975786</td>\n",
       "      <td>0.914344</td>\n",
       "      <td>0.845247</td>\n",
       "      <td>0.864152</td>\n",
       "      <td>0.346713</td>\n",
       "      <td>0.356573</td>\n",
       "      <td>0.438447</td>\n",
       "      <td>0.512256</td>\n",
       "    </tr>\n",
       "    <tr>\n",
       "      <th>2</th>\n",
       "      <td>1.0</td>\n",
       "      <td>3.0</td>\n",
       "      <td>0.997600</td>\n",
       "      <td>0.373238</td>\n",
       "      <td>0.517399</td>\n",
       "      <td>0.504993</td>\n",
       "      <td>0.618903</td>\n",
       "      <td>0.605571</td>\n",
       "      <td>0.746225</td>\n",
       "      <td>0.195928</td>\n",
       "      <td>0.815667</td>\n",
       "      <td>0.679355</td>\n",
       "      <td>0.803413</td>\n",
       "      <td>0.643995</td>\n",
       "      <td>0.718441</td>\n",
       "      <td>0.924775</td>\n",
       "      <td>0.315371</td>\n",
       "      <td>0.250642</td>\n",
       "      <td>0.285636</td>\n",
       "      <td>0.365858</td>\n",
       "    </tr>\n",
       "    <tr>\n",
       "      <th>3</th>\n",
       "      <td>1.0</td>\n",
       "      <td>4.0</td>\n",
       "      <td>0.783408</td>\n",
       "      <td>0.104055</td>\n",
       "      <td>0.197533</td>\n",
       "      <td>0.421837</td>\n",
       "      <td>0.742056</td>\n",
       "      <td>0.490828</td>\n",
       "      <td>0.005525</td>\n",
       "      <td>0.392123</td>\n",
       "      <td>0.010015</td>\n",
       "      <td>0.471463</td>\n",
       "      <td>0.597879</td>\n",
       "      <td>0.761659</td>\n",
       "      <td>0.362751</td>\n",
       "      <td>0.912819</td>\n",
       "      <td>0.977971</td>\n",
       "      <td>0.845921</td>\n",
       "      <td>0.699431</td>\n",
       "      <td>0.475987</td>\n",
       "    </tr>\n",
       "    <tr>\n",
       "      <th>4</th>\n",
       "      <td>1.0</td>\n",
       "      <td>5.0</td>\n",
       "      <td>0.406250</td>\n",
       "      <td>0.513199</td>\n",
       "      <td>0.061812</td>\n",
       "      <td>0.635837</td>\n",
       "      <td>0.844798</td>\n",
       "      <td>0.441502</td>\n",
       "      <td>0.191926</td>\n",
       "      <td>0.487546</td>\n",
       "      <td>0.358534</td>\n",
       "      <td>0.551543</td>\n",
       "      <td>0.743877</td>\n",
       "      <td>0.312349</td>\n",
       "      <td>0.650223</td>\n",
       "      <td>0.522261</td>\n",
       "      <td>0.043545</td>\n",
       "      <td>0.376660</td>\n",
       "      <td>0.280098</td>\n",
       "      <td>0.132283</td>\n",
       "    </tr>\n",
       "    <tr>\n",
       "      <th>...</th>\n",
       "      <td>...</td>\n",
       "      <td>...</td>\n",
       "      <td>...</td>\n",
       "      <td>...</td>\n",
       "      <td>...</td>\n",
       "      <td>...</td>\n",
       "      <td>...</td>\n",
       "      <td>...</td>\n",
       "      <td>...</td>\n",
       "      <td>...</td>\n",
       "      <td>...</td>\n",
       "      <td>...</td>\n",
       "      <td>...</td>\n",
       "      <td>...</td>\n",
       "      <td>...</td>\n",
       "      <td>...</td>\n",
       "      <td>...</td>\n",
       "      <td>...</td>\n",
       "      <td>...</td>\n",
       "      <td>...</td>\n",
       "    </tr>\n",
       "    <tr>\n",
       "      <th>535</th>\n",
       "      <td>3.0</td>\n",
       "      <td>176.0</td>\n",
       "      <td>0.657136</td>\n",
       "      <td>0.489375</td>\n",
       "      <td>0.133713</td>\n",
       "      <td>0.411950</td>\n",
       "      <td>0.087780</td>\n",
       "      <td>0.356289</td>\n",
       "      <td>0.480204</td>\n",
       "      <td>0.029678</td>\n",
       "      <td>0.400102</td>\n",
       "      <td>0.280546</td>\n",
       "      <td>0.384117</td>\n",
       "      <td>0.885948</td>\n",
       "      <td>0.768482</td>\n",
       "      <td>0.459479</td>\n",
       "      <td>0.334482</td>\n",
       "      <td>0.573002</td>\n",
       "      <td>0.610183</td>\n",
       "      <td>0.737706</td>\n",
       "    </tr>\n",
       "    <tr>\n",
       "      <th>536</th>\n",
       "      <td>3.0</td>\n",
       "      <td>177.0</td>\n",
       "      <td>0.915894</td>\n",
       "      <td>0.842720</td>\n",
       "      <td>0.518947</td>\n",
       "      <td>0.090622</td>\n",
       "      <td>0.336981</td>\n",
       "      <td>0.893576</td>\n",
       "      <td>0.978703</td>\n",
       "      <td>0.674868</td>\n",
       "      <td>0.263398</td>\n",
       "      <td>0.798108</td>\n",
       "      <td>0.353546</td>\n",
       "      <td>0.044796</td>\n",
       "      <td>0.990900</td>\n",
       "      <td>0.347027</td>\n",
       "      <td>0.512499</td>\n",
       "      <td>0.810549</td>\n",
       "      <td>0.593332</td>\n",
       "      <td>0.142565</td>\n",
       "    </tr>\n",
       "    <tr>\n",
       "      <th>537</th>\n",
       "      <td>3.0</td>\n",
       "      <td>178.0</td>\n",
       "      <td>0.478600</td>\n",
       "      <td>0.941185</td>\n",
       "      <td>0.769245</td>\n",
       "      <td>0.950776</td>\n",
       "      <td>0.189406</td>\n",
       "      <td>0.112743</td>\n",
       "      <td>0.745645</td>\n",
       "      <td>0.527096</td>\n",
       "      <td>0.870987</td>\n",
       "      <td>0.193103</td>\n",
       "      <td>0.829563</td>\n",
       "      <td>0.101506</td>\n",
       "      <td>0.548878</td>\n",
       "      <td>0.381966</td>\n",
       "      <td>0.198811</td>\n",
       "      <td>0.867108</td>\n",
       "      <td>0.461632</td>\n",
       "      <td>0.652817</td>\n",
       "    </tr>\n",
       "    <tr>\n",
       "      <th>538</th>\n",
       "      <td>3.0</td>\n",
       "      <td>179.0</td>\n",
       "      <td>0.007793</td>\n",
       "      <td>0.779287</td>\n",
       "      <td>0.867468</td>\n",
       "      <td>0.704820</td>\n",
       "      <td>0.983282</td>\n",
       "      <td>0.420303</td>\n",
       "      <td>0.710612</td>\n",
       "      <td>0.174746</td>\n",
       "      <td>0.267685</td>\n",
       "      <td>0.761134</td>\n",
       "      <td>0.436714</td>\n",
       "      <td>0.690132</td>\n",
       "      <td>0.825133</td>\n",
       "      <td>0.981656</td>\n",
       "      <td>0.113193</td>\n",
       "      <td>0.364799</td>\n",
       "      <td>0.201469</td>\n",
       "      <td>0.536535</td>\n",
       "    </tr>\n",
       "    <tr>\n",
       "      <th>539</th>\n",
       "      <td>3.0</td>\n",
       "      <td>180.0</td>\n",
       "      <td>0.608075</td>\n",
       "      <td>0.031556</td>\n",
       "      <td>0.598264</td>\n",
       "      <td>0.794771</td>\n",
       "      <td>0.145680</td>\n",
       "      <td>0.378183</td>\n",
       "      <td>0.461948</td>\n",
       "      <td>0.425291</td>\n",
       "      <td>0.057396</td>\n",
       "      <td>0.480938</td>\n",
       "      <td>0.307816</td>\n",
       "      <td>0.231638</td>\n",
       "      <td>0.464152</td>\n",
       "      <td>0.583558</td>\n",
       "      <td>0.969365</td>\n",
       "      <td>0.464331</td>\n",
       "      <td>0.760344</td>\n",
       "      <td>0.762439</td>\n",
       "    </tr>\n",
       "  </tbody>\n",
       "</table>\n",
       "<p>540 rows × 20 columns</p>\n",
       "</div>"
      ],
      "text/plain": [
       "     Study    Run  vconst_corr  vconst_2  vconst_3  vconst_4  vconst_5  \\\n",
       "0      1.0    1.0     0.859036  0.927825  0.252866  0.298838  0.170521   \n",
       "1      1.0    2.0     0.606041  0.457728  0.359448  0.306957  0.843331   \n",
       "2      1.0    3.0     0.997600  0.373238  0.517399  0.504993  0.618903   \n",
       "3      1.0    4.0     0.783408  0.104055  0.197533  0.421837  0.742056   \n",
       "4      1.0    5.0     0.406250  0.513199  0.061812  0.635837  0.844798   \n",
       "..     ...    ...          ...       ...       ...       ...       ...   \n",
       "535    3.0  176.0     0.657136  0.489375  0.133713  0.411950  0.087780   \n",
       "536    3.0  177.0     0.915894  0.842720  0.518947  0.090622  0.336981   \n",
       "537    3.0  178.0     0.478600  0.941185  0.769245  0.950776  0.189406   \n",
       "538    3.0  179.0     0.007793  0.779287  0.867468  0.704820  0.983282   \n",
       "539    3.0  180.0     0.608075  0.031556  0.598264  0.794771  0.145680   \n",
       "\n",
       "     vconst_7   ah_corr  ah_bolus  slm_corr  efficiency_factor  tidal_mix_max  \\\n",
       "0    0.735936  0.428325  0.567947  0.474370           0.245675       0.104226   \n",
       "1    0.934851  0.444572  0.828015  0.296618           0.616870       0.975786   \n",
       "2    0.605571  0.746225  0.195928  0.815667           0.679355       0.803413   \n",
       "3    0.490828  0.005525  0.392123  0.010015           0.471463       0.597879   \n",
       "4    0.441502  0.191926  0.487546  0.358534           0.551543       0.743877   \n",
       "..        ...       ...       ...       ...                ...            ...   \n",
       "535  0.356289  0.480204  0.029678  0.400102           0.280546       0.384117   \n",
       "536  0.893576  0.978703  0.674868  0.263398           0.798108       0.353546   \n",
       "537  0.112743  0.745645  0.527096  0.870987           0.193103       0.829563   \n",
       "538  0.420303  0.710612  0.174746  0.267685           0.761134       0.436714   \n",
       "539  0.378183  0.461948  0.425291  0.057396           0.480938       0.307816   \n",
       "\n",
       "     vertical_decay_scale  convect_corr  bckgrnd_vdc1  bckgrnd_vdc_ban  \\\n",
       "0                0.869091      0.997518      0.448620         0.307522   \n",
       "1                0.914344      0.845247      0.864152         0.346713   \n",
       "2                0.643995      0.718441      0.924775         0.315371   \n",
       "3                0.761659      0.362751      0.912819         0.977971   \n",
       "4                0.312349      0.650223      0.522261         0.043545   \n",
       "..                    ...           ...           ...              ...   \n",
       "535              0.885948      0.768482      0.459479         0.334482   \n",
       "536              0.044796      0.990900      0.347027         0.512499   \n",
       "537              0.101506      0.548878      0.381966         0.198811   \n",
       "538              0.690132      0.825133      0.981656         0.113193   \n",
       "539              0.231638      0.464152      0.583558         0.969365   \n",
       "\n",
       "     bckgrnd_vdc_eq  bckgrnd_vdc_psim   Prandtl  \n",
       "0          0.858310          0.796997  0.869893  \n",
       "1          0.356573          0.438447  0.512256  \n",
       "2          0.250642          0.285636  0.365858  \n",
       "3          0.845921          0.699431  0.475987  \n",
       "4          0.376660          0.280098  0.132283  \n",
       "..              ...               ...       ...  \n",
       "535        0.573002          0.610183  0.737706  \n",
       "536        0.810549          0.593332  0.142565  \n",
       "537        0.867108          0.461632  0.652817  \n",
       "538        0.364799          0.201469  0.536535  \n",
       "539        0.464331          0.760344  0.762439  \n",
       "\n",
       "[540 rows x 20 columns]"
      ]
     },
     "execution_count": 191,
     "metadata": {},
     "output_type": "execute_result"
    }
   ],
   "source": [
    "features = df.columns[df.columns!='outcome']\n",
    "df[features]"
   ]
  },
  {
   "cell_type": "code",
   "execution_count": 192,
   "metadata": {},
   "outputs": [
    {
     "data": {
      "text/html": [
       "\n",
       "<div id='iBQV7M2BWSOHYAO3A2LAO'>\n",
       "<div style='color: #900; text-align: center;'>\n",
       "  <b>Visualization omitted, Javascript library not loaded!</b><br>\n",
       "  Have you run `initjs()` in this notebook? If this notebook was from another\n",
       "  user you must also trust this notebook (File -> Trust notebook). If you are viewing\n",
       "  this notebook on github the Javascript has been stripped for security. If you are using\n",
       "  JupyterLab this error is because a JupyterLab extension has not yet been written.\n",
       "</div></div>\n",
       " <script>\n",
       "   if (window.SHAP) SHAP.ReactDom.render(\n",
       "    SHAP.React.createElement(SHAP.AdditiveForceVisualizer, {\"outNames\": [\"f(x)\"], \"baseValue\": 0.08919667590027704, \"outValue\": 0.24932098318717494, \"link\": \"identity\", \"featureNames\": [\"Study\", \"Run\", \"vconst_corr\", \"vconst_2\", \"vconst_3\", \"vconst_4\", \"vconst_5\", \"vconst_7\", \"ah_corr\", \"ah_bolus\", \"slm_corr\", \"efficiency_factor\", \"tidal_mix_max\", \"vertical_decay_scale\", \"convect_corr\", \"bckgrnd_vdc1\", \"bckgrnd_vdc_ban\", \"bckgrnd_vdc_eq\", \"bckgrnd_vdc_psim\", \"Prandtl\"], \"features\": {\"0\": {\"effect\": -0.004163852917309445, \"value\": 1.0}, \"1\": {\"effect\": 0.10361317218538466, \"value\": 1.0}, \"2\": {\"effect\": 0.008880885521319805, \"value\": 0.8590362064372231}, \"3\": {\"effect\": 0.046901323166291316, \"value\": 0.9278245357602525}, \"4\": {\"effect\": 0.001911368148115856, \"value\": 0.2528656223672442}, \"5\": {\"effect\": 7.932982425962754e-05, \"value\": 0.298838311199668}, \"6\": {\"effect\": 0.00010456605064497433, \"value\": 0.1705212998954166}, \"7\": {\"effect\": -0.003387680164689144, \"value\": 0.735936040913738}, \"8\": {\"effect\": -0.0015190742707587824, \"value\": 0.4283254278810799}, \"9\": {\"effect\": 0.001762319447231168, \"value\": 0.5679469417703027}, \"10\": {\"effect\": 0.004116577104155437, \"value\": 0.4743695999935477}, \"11\": {\"effect\": -0.00416768227725047, \"value\": 0.2456748547110086}, \"12\": {\"effect\": 0.0029288239852592124, \"value\": 0.1042258652974851}, \"13\": {\"effect\": -0.02196722648214291, \"value\": 0.8690907029810155}, \"14\": {\"effect\": 0.013053430116048325, \"value\": 0.9975184956319734}, \"15\": {\"effect\": -0.02775470044755315, \"value\": 0.4486200774528293}, \"16\": {\"effect\": 0.004210871921707059, \"value\": 0.3075217871189428}, \"17\": {\"effect\": -0.013167949562731224, \"value\": 0.8583103652138057}, \"18\": {\"effect\": 0.0485546484831241, \"value\": 0.7969972396308247}, \"19\": {\"effect\": 0.00013515745579149494, \"value\": 0.8698930381357464}}, \"plot_cmap\": \"RdBu\", \"labelMargin\": 20}),\n",
       "    document.getElementById('iBQV7M2BWSOHYAO3A2LAO')\n",
       "  );\n",
       "</script>"
      ],
      "text/plain": [
       "<shap.plots._force.AdditiveForceVisualizer at 0x7fe0179ea4e0>"
      ]
     },
     "execution_count": 192,
     "metadata": {},
     "output_type": "execute_result"
    }
   ],
   "source": [
    "# visualize the first prediction's explanation (use matplotlib=True to avoid Javascript)\n",
    "shap.force_plot(explainer.expected_value[0], shap_values[0][0], df[features].iloc[0,:], feature_names=features)"
   ]
  },
  {
   "cell_type": "markdown",
   "metadata": {},
   "source": [
    "shap.force_plot(explainer.expected_value[0], shap_values[0], df[features])"
   ]
  },
  {
   "cell_type": "code",
   "execution_count": 193,
   "metadata": {},
   "outputs": [
    {
     "data": {
      "image/png": "[encoded data removed]",
      "text/plain": [
       "<Figure size 576x684 with 2 Axes>"
      ]
     },
     "metadata": {
      "needs_background": "light"
     },
     "output_type": "display_data"
    }
   ],
   "source": [
    "shap.summary_plot(shap_values[0], df[features])"
   ]
  },
  {
   "cell_type": "code",
   "execution_count": 194,
   "metadata": {},
   "outputs": [
    {
     "data": {
      "image/png": "[encoded data removed]",
      "text/plain": [
       "<Figure size 576x684 with 1 Axes>"
      ]
     },
     "metadata": {
      "needs_background": "light"
     },
     "output_type": "display_data"
    }
   ],
   "source": [
    "shap.summary_plot(shap_values, df[features], plot_type=\"bar\")"
   ]
  },
  {
   "cell_type": "code",
   "execution_count": 195,
   "metadata": {},
   "outputs": [
    {
     "data": {
      "text/plain": [
       "Index(['Study', 'Run', 'vconst_corr', 'vconst_2', 'vconst_3', 'vconst_4',\n",
       "       'vconst_5', 'vconst_7', 'ah_corr', 'ah_bolus', 'slm_corr',\n",
       "       'efficiency_factor', 'tidal_mix_max', 'vertical_decay_scale',\n",
       "       'convect_corr', 'bckgrnd_vdc1', 'bckgrnd_vdc_ban', 'bckgrnd_vdc_eq',\n",
       "       'bckgrnd_vdc_psim', 'Prandtl'],\n",
       "      dtype='object')"
      ]
     },
     "execution_count": 195,
     "metadata": {},
     "output_type": "execute_result"
    }
   ],
   "source": [
    "df[features].columns"
   ]
  },
  {
   "cell_type": "code",
   "execution_count": 196,
   "metadata": {},
   "outputs": [
    {
     "data": {
      "text/plain": [
       "<AxesSubplot:>"
      ]
     },
     "execution_count": 196,
     "metadata": {},
     "output_type": "execute_result"
    },
    {
     "data": {
      "image/png": "[encoded data removed]",
      "text/plain": [
       "<Figure size 432x288 with 1 Axes>"
      ]
     },
     "metadata": {
      "needs_background": "light"
     },
     "output_type": "display_data"
    }
   ],
   "source": [
    "mean_shap_values = np.mean(np.abs(shap_values[0]), axis=0)\n",
    "shap_df = pd.DataFrame(mean_shap_values, index=df[features].columns, columns=[\"SHAP\"])\n",
    "shap_df.sort_values(by=\"SHAP\", inplace=True, ascending=False)\n",
    "shap_df.plot(kind=\"bar\")"
   ]
  },
  {
   "cell_type": "markdown",
   "metadata": {},
   "source": [
    "# Random Forest Feature Importance"
   ]
  },
  {
   "cell_type": "code",
   "execution_count": 197,
   "metadata": {},
   "outputs": [],
   "source": [
    "importances = model.feature_importances_\n",
    "std = np.std([tree.feature_importances_ for tree in model.estimators_],\n",
    "             axis=0)\n",
    "\n",
    "indices = np.argsort(importances)[::-1]"
   ]
  },
  {
   "cell_type": "code",
   "execution_count": 198,
   "metadata": {},
   "outputs": [
    {
     "data": {
      "text/html": [
       "<div>\n",
       "<style scoped>\n",
       "    .dataframe tbody tr th:only-of-type {\n",
       "        vertical-align: middle;\n",
       "    }\n",
       "\n",
       "    .dataframe tbody tr th {\n",
       "        vertical-align: top;\n",
       "    }\n",
       "\n",
       "    .dataframe thead th {\n",
       "        text-align: right;\n",
       "    }\n",
       "</style>\n",
       "<table border=\"1\" class=\"dataframe\">\n",
       "  <thead>\n",
       "    <tr style=\"text-align: right;\">\n",
       "      <th></th>\n",
       "      <th>Importance</th>\n",
       "    </tr>\n",
       "  </thead>\n",
       "  <tbody>\n",
       "    <tr>\n",
       "      <th>vconst_corr</th>\n",
       "      <td>0.183108</td>\n",
       "    </tr>\n",
       "    <tr>\n",
       "      <th>vconst_2</th>\n",
       "      <td>0.104055</td>\n",
       "    </tr>\n",
       "    <tr>\n",
       "      <th>Run</th>\n",
       "      <td>0.094032</td>\n",
       "    </tr>\n",
       "    <tr>\n",
       "      <th>convect_corr</th>\n",
       "      <td>0.074122</td>\n",
       "    </tr>\n",
       "    <tr>\n",
       "      <th>bckgrnd_vdc1</th>\n",
       "      <td>0.055101</td>\n",
       "    </tr>\n",
       "  </tbody>\n",
       "</table>\n",
       "</div>"
      ],
      "text/plain": [
       "              Importance\n",
       "vconst_corr     0.183108\n",
       "vconst_2        0.104055\n",
       "Run             0.094032\n",
       "convect_corr    0.074122\n",
       "bckgrnd_vdc1    0.055101"
      ]
     },
     "execution_count": 198,
     "metadata": {},
     "output_type": "execute_result"
    }
   ],
   "source": [
    "fi_df = pd.DataFrame(dict(zip(features[indices], importances[indices])), index=['Importance'])\n",
    "fi_df = fi_df.T\n",
    "fi_df.head()"
   ]
  },
  {
   "cell_type": "code",
   "execution_count": 199,
   "metadata": {},
   "outputs": [
    {
     "data": {
      "text/plain": [
       "<AxesSubplot:>"
      ]
     },
     "execution_count": 199,
     "metadata": {},
     "output_type": "execute_result"
    },
    {
     "data": {
      "image/png": "[encoded data removed]",
      "text/plain": [
       "<Figure size 432x288 with 1 Axes>"
      ]
     },
     "metadata": {
      "needs_background": "light"
     },
     "output_type": "display_data"
    }
   ],
   "source": [
    "fi_df.plot(kind=\"bar\")"
   ]
  },
  {
   "cell_type": "markdown",
   "metadata": {},
   "source": [
    "# Seleção por K-Best features"
   ]
  },
  {
   "cell_type": "code",
   "execution_count": 200,
   "metadata": {},
   "outputs": [],
   "source": [
    "# Feature Selection with Univariate Statistical Tests\n",
    "from pandas import read_csv\n",
    "from numpy import set_printoptions\n",
    "from sklearn.feature_selection import SelectKBest\n",
    "from sklearn.feature_selection import f_classif"
   ]
  },
  {
   "cell_type": "code",
   "execution_count": 201,
   "metadata": {},
   "outputs": [
    {
     "name": "stdout",
     "output_type": "stream",
     "text": [
      "[3.954e-01 2.522e-01 3.959e+01 3.622e+01 1.127e-01 3.243e+00 8.812e-02\n",
      " 1.414e+00 6.738e-03 1.303e-01 4.532e-01 9.523e-01 8.595e-01 2.130e-01\n",
      " 1.452e+01 1.967e+01 1.788e+00 5.339e+00 7.891e-01 8.206e-01]\n"
     ]
    }
   ],
   "source": [
    "test = SelectKBest(score_func=f_classif, k=X_train.shape[1])\n",
    "fit = test.fit(X_train, y_train)\n",
    "# summarize scores\n",
    "set_printoptions(precision=3)\n",
    "print(fit.scores_)"
   ]
  },
  {
   "cell_type": "code",
   "execution_count": 202,
   "metadata": {},
   "outputs": [
    {
     "data": {
      "text/plain": [
       "<AxesSubplot:>"
      ]
     },
     "execution_count": 202,
     "metadata": {},
     "output_type": "execute_result"
    },
    {
     "data": {
      "image/png": "[encoded data removed]",
      "text/plain": [
       "<Figure size 432x288 with 1 Axes>"
      ]
     },
     "metadata": {
      "needs_background": "light"
     },
     "output_type": "display_data"
    }
   ],
   "source": [
    "kbest_dict = dict(zip(df.drop('outcome', axis=1).columns, fit.scores_))\n",
    "kbest_df = pd.DataFrame(kbest_dict, index=['KBest']).transpose()\n",
    "kbest_df.sort_values(by='KBest', ascending=False, inplace=True)\n",
    "kbest_df.plot(kind=\"bar\")"
   ]
  },
  {
   "cell_type": "markdown",
   "metadata": {},
   "source": [
    "# Combining Feature Orders"
   ]
  },
  {
   "cell_type": "code",
   "execution_count": 203,
   "metadata": {},
   "outputs": [
    {
     "data": {
      "text/plain": [
       "(Index(['vconst_2', 'vconst_corr', 'bckgrnd_vdc1', 'convect_corr',\n",
       "        'bckgrnd_vdc_eq', 'Run', 'bckgrnd_vdc_ban', 'tidal_mix_max', 'ah_bolus',\n",
       "        'efficiency_factor', 'bckgrnd_vdc_psim', 'vconst_5', 'vconst_3',\n",
       "        'vconst_7', 'slm_corr', 'Prandtl', 'vertical_decay_scale', 'vconst_4',\n",
       "        'Study', 'ah_corr'],\n",
       "       dtype='object'),\n",
       " Index(['vconst_corr', 'vconst_2', 'bckgrnd_vdc1', 'convect_corr',\n",
       "        'bckgrnd_vdc_eq', 'vconst_4', 'bckgrnd_vdc_ban', 'vconst_7',\n",
       "        'efficiency_factor', 'tidal_mix_max', 'Prandtl', 'bckgrnd_vdc_psim',\n",
       "        'slm_corr', 'Study', 'Run', 'vertical_decay_scale', 'ah_bolus',\n",
       "        'vconst_3', 'vconst_5', 'ah_corr'],\n",
       "       dtype='object'),\n",
       " Index(['vconst_corr', 'vconst_2', 'Run', 'convect_corr', 'bckgrnd_vdc1',\n",
       "        'bckgrnd_vdc_eq', 'vconst_3', 'tidal_mix_max', 'efficiency_factor',\n",
       "        'slm_corr', 'bckgrnd_vdc_ban', 'ah_bolus', 'vconst_5', 'vconst_7',\n",
       "        'vertical_decay_scale', 'bckgrnd_vdc_psim', 'vconst_4', 'Prandtl',\n",
       "        'ah_corr', 'Study'],\n",
       "       dtype='object'))"
      ]
     },
     "execution_count": 203,
     "metadata": {},
     "output_type": "execute_result"
    }
   ],
   "source": [
    "shap_df.index, kbest_df.index, fi_df.index"
   ]
  },
  {
   "cell_type": "code",
   "execution_count": 204,
   "metadata": {},
   "outputs": [
    {
     "data": {
      "text/html": [
       "<div>\n",
       "<style scoped>\n",
       "    .dataframe tbody tr th:only-of-type {\n",
       "        vertical-align: middle;\n",
       "    }\n",
       "\n",
       "    .dataframe tbody tr th {\n",
       "        vertical-align: top;\n",
       "    }\n",
       "\n",
       "    .dataframe thead th {\n",
       "        text-align: right;\n",
       "    }\n",
       "</style>\n",
       "<table border=\"1\" class=\"dataframe\">\n",
       "  <thead>\n",
       "    <tr style=\"text-align: right;\">\n",
       "      <th></th>\n",
       "      <th>SHAP</th>\n",
       "      <th>Importance</th>\n",
       "      <th>KBest</th>\n",
       "    </tr>\n",
       "  </thead>\n",
       "  <tbody>\n",
       "    <tr>\n",
       "      <th>0</th>\n",
       "      <td>vconst_2</td>\n",
       "      <td>vconst_corr</td>\n",
       "      <td>vconst_corr</td>\n",
       "    </tr>\n",
       "    <tr>\n",
       "      <th>1</th>\n",
       "      <td>vconst_corr</td>\n",
       "      <td>vconst_2</td>\n",
       "      <td>vconst_2</td>\n",
       "    </tr>\n",
       "    <tr>\n",
       "      <th>2</th>\n",
       "      <td>bckgrnd_vdc1</td>\n",
       "      <td>Run</td>\n",
       "      <td>bckgrnd_vdc1</td>\n",
       "    </tr>\n",
       "    <tr>\n",
       "      <th>3</th>\n",
       "      <td>convect_corr</td>\n",
       "      <td>convect_corr</td>\n",
       "      <td>convect_corr</td>\n",
       "    </tr>\n",
       "    <tr>\n",
       "      <th>4</th>\n",
       "      <td>bckgrnd_vdc_eq</td>\n",
       "      <td>bckgrnd_vdc1</td>\n",
       "      <td>bckgrnd_vdc_eq</td>\n",
       "    </tr>\n",
       "  </tbody>\n",
       "</table>\n",
       "</div>"
      ],
      "text/plain": [
       "             SHAP    Importance           KBest\n",
       "0        vconst_2   vconst_corr     vconst_corr\n",
       "1     vconst_corr      vconst_2        vconst_2\n",
       "2    bckgrnd_vdc1           Run    bckgrnd_vdc1\n",
       "3    convect_corr  convect_corr    convect_corr\n",
       "4  bckgrnd_vdc_eq  bckgrnd_vdc1  bckgrnd_vdc_eq"
      ]
     },
     "execution_count": 204,
     "metadata": {},
     "output_type": "execute_result"
    }
   ],
   "source": [
    "fs_df = pd.DataFrame(list(zip(shap_df.index, fi_df.index, kbest_df.index)), columns=[\"SHAP\", \"Importance\", \"KBest\"])\n",
    "fs_df.head()"
   ]
  },
  {
   "cell_type": "code",
   "execution_count": 205,
   "metadata": {},
   "outputs": [
    {
     "data": {
      "text/html": [
       "<div>\n",
       "<style scoped>\n",
       "    .dataframe tbody tr th:only-of-type {\n",
       "        vertical-align: middle;\n",
       "    }\n",
       "\n",
       "    .dataframe tbody tr th {\n",
       "        vertical-align: top;\n",
       "    }\n",
       "\n",
       "    .dataframe thead th {\n",
       "        text-align: right;\n",
       "    }\n",
       "</style>\n",
       "<table border=\"1\" class=\"dataframe\">\n",
       "  <thead>\n",
       "    <tr style=\"text-align: right;\">\n",
       "      <th></th>\n",
       "      <th>KBest</th>\n",
       "    </tr>\n",
       "  </thead>\n",
       "  <tbody>\n",
       "    <tr>\n",
       "      <th>vconst_corr</th>\n",
       "      <td>39.585508</td>\n",
       "    </tr>\n",
       "    <tr>\n",
       "      <th>vconst_2</th>\n",
       "      <td>36.222307</td>\n",
       "    </tr>\n",
       "    <tr>\n",
       "      <th>bckgrnd_vdc1</th>\n",
       "      <td>19.672860</td>\n",
       "    </tr>\n",
       "    <tr>\n",
       "      <th>convect_corr</th>\n",
       "      <td>14.524015</td>\n",
       "    </tr>\n",
       "    <tr>\n",
       "      <th>bckgrnd_vdc_eq</th>\n",
       "      <td>5.338987</td>\n",
       "    </tr>\n",
       "    <tr>\n",
       "      <th>vconst_4</th>\n",
       "      <td>3.243204</td>\n",
       "    </tr>\n",
       "    <tr>\n",
       "      <th>bckgrnd_vdc_ban</th>\n",
       "      <td>1.788454</td>\n",
       "    </tr>\n",
       "    <tr>\n",
       "      <th>vconst_7</th>\n",
       "      <td>1.414356</td>\n",
       "    </tr>\n",
       "    <tr>\n",
       "      <th>efficiency_factor</th>\n",
       "      <td>0.952296</td>\n",
       "    </tr>\n",
       "    <tr>\n",
       "      <th>tidal_mix_max</th>\n",
       "      <td>0.859504</td>\n",
       "    </tr>\n",
       "    <tr>\n",
       "      <th>Prandtl</th>\n",
       "      <td>0.820584</td>\n",
       "    </tr>\n",
       "    <tr>\n",
       "      <th>bckgrnd_vdc_psim</th>\n",
       "      <td>0.789118</td>\n",
       "    </tr>\n",
       "    <tr>\n",
       "      <th>slm_corr</th>\n",
       "      <td>0.453209</td>\n",
       "    </tr>\n",
       "    <tr>\n",
       "      <th>Study</th>\n",
       "      <td>0.395407</td>\n",
       "    </tr>\n",
       "    <tr>\n",
       "      <th>Run</th>\n",
       "      <td>0.252204</td>\n",
       "    </tr>\n",
       "    <tr>\n",
       "      <th>vertical_decay_scale</th>\n",
       "      <td>0.213037</td>\n",
       "    </tr>\n",
       "    <tr>\n",
       "      <th>ah_bolus</th>\n",
       "      <td>0.130329</td>\n",
       "    </tr>\n",
       "    <tr>\n",
       "      <th>vconst_3</th>\n",
       "      <td>0.112664</td>\n",
       "    </tr>\n",
       "    <tr>\n",
       "      <th>vconst_5</th>\n",
       "      <td>0.088121</td>\n",
       "    </tr>\n",
       "    <tr>\n",
       "      <th>ah_corr</th>\n",
       "      <td>0.006738</td>\n",
       "    </tr>\n",
       "  </tbody>\n",
       "</table>\n",
       "</div>"
      ],
      "text/plain": [
       "                          KBest\n",
       "vconst_corr           39.585508\n",
       "vconst_2              36.222307\n",
       "bckgrnd_vdc1          19.672860\n",
       "convect_corr          14.524015\n",
       "bckgrnd_vdc_eq         5.338987\n",
       "vconst_4               3.243204\n",
       "bckgrnd_vdc_ban        1.788454\n",
       "vconst_7               1.414356\n",
       "efficiency_factor      0.952296\n",
       "tidal_mix_max          0.859504\n",
       "Prandtl                0.820584\n",
       "bckgrnd_vdc_psim       0.789118\n",
       "slm_corr               0.453209\n",
       "Study                  0.395407\n",
       "Run                    0.252204\n",
       "vertical_decay_scale   0.213037\n",
       "ah_bolus               0.130329\n",
       "vconst_3               0.112664\n",
       "vconst_5               0.088121\n",
       "ah_corr                0.006738"
      ]
     },
     "execution_count": 205,
     "metadata": {},
     "output_type": "execute_result"
    }
   ],
   "source": [
    "kbest_df"
   ]
  },
  {
   "cell_type": "markdown",
   "metadata": {},
   "source": [
    "# Evaluating feature order: LDA"
   ]
  },
  {
   "cell_type": "code",
   "execution_count": 206,
   "metadata": {},
   "outputs": [],
   "source": [
    "from sklearn.discriminant_analysis import LinearDiscriminantAnalysis\n",
    "from sklearn.metrics import fbeta_score"
   ]
  },
  {
   "cell_type": "code",
   "execution_count": 208,
   "metadata": {},
   "outputs": [
    {
     "data": {
      "text/html": [
       "<div>\n",
       "<style scoped>\n",
       "    .dataframe tbody tr th:only-of-type {\n",
       "        vertical-align: middle;\n",
       "    }\n",
       "\n",
       "    .dataframe tbody tr th {\n",
       "        vertical-align: top;\n",
       "    }\n",
       "\n",
       "    .dataframe thead th {\n",
       "        text-align: right;\n",
       "    }\n",
       "</style>\n",
       "<table border=\"1\" class=\"dataframe\">\n",
       "  <thead>\n",
       "    <tr style=\"text-align: right;\">\n",
       "      <th></th>\n",
       "      <th>SHAP</th>\n",
       "      <th>Importance</th>\n",
       "      <th>KBest</th>\n",
       "    </tr>\n",
       "  </thead>\n",
       "  <tbody>\n",
       "    <tr>\n",
       "      <th>0</th>\n",
       "      <td>vconst_2</td>\n",
       "      <td>vconst_corr</td>\n",
       "      <td>vconst_corr</td>\n",
       "    </tr>\n",
       "    <tr>\n",
       "      <th>1</th>\n",
       "      <td>vconst_corr</td>\n",
       "      <td>vconst_2</td>\n",
       "      <td>vconst_2</td>\n",
       "    </tr>\n",
       "    <tr>\n",
       "      <th>2</th>\n",
       "      <td>bckgrnd_vdc1</td>\n",
       "      <td>Run</td>\n",
       "      <td>bckgrnd_vdc1</td>\n",
       "    </tr>\n",
       "    <tr>\n",
       "      <th>3</th>\n",
       "      <td>convect_corr</td>\n",
       "      <td>convect_corr</td>\n",
       "      <td>convect_corr</td>\n",
       "    </tr>\n",
       "    <tr>\n",
       "      <th>4</th>\n",
       "      <td>bckgrnd_vdc_eq</td>\n",
       "      <td>bckgrnd_vdc1</td>\n",
       "      <td>bckgrnd_vdc_eq</td>\n",
       "    </tr>\n",
       "    <tr>\n",
       "      <th>5</th>\n",
       "      <td>Run</td>\n",
       "      <td>bckgrnd_vdc_eq</td>\n",
       "      <td>vconst_4</td>\n",
       "    </tr>\n",
       "    <tr>\n",
       "      <th>6</th>\n",
       "      <td>bckgrnd_vdc_ban</td>\n",
       "      <td>vconst_3</td>\n",
       "      <td>bckgrnd_vdc_ban</td>\n",
       "    </tr>\n",
       "    <tr>\n",
       "      <th>7</th>\n",
       "      <td>tidal_mix_max</td>\n",
       "      <td>tidal_mix_max</td>\n",
       "      <td>vconst_7</td>\n",
       "    </tr>\n",
       "    <tr>\n",
       "      <th>8</th>\n",
       "      <td>ah_bolus</td>\n",
       "      <td>efficiency_factor</td>\n",
       "      <td>efficiency_factor</td>\n",
       "    </tr>\n",
       "    <tr>\n",
       "      <th>9</th>\n",
       "      <td>efficiency_factor</td>\n",
       "      <td>slm_corr</td>\n",
       "      <td>tidal_mix_max</td>\n",
       "    </tr>\n",
       "    <tr>\n",
       "      <th>10</th>\n",
       "      <td>bckgrnd_vdc_psim</td>\n",
       "      <td>bckgrnd_vdc_ban</td>\n",
       "      <td>Prandtl</td>\n",
       "    </tr>\n",
       "    <tr>\n",
       "      <th>11</th>\n",
       "      <td>vconst_5</td>\n",
       "      <td>ah_bolus</td>\n",
       "      <td>bckgrnd_vdc_psim</td>\n",
       "    </tr>\n",
       "    <tr>\n",
       "      <th>12</th>\n",
       "      <td>vconst_3</td>\n",
       "      <td>vconst_5</td>\n",
       "      <td>slm_corr</td>\n",
       "    </tr>\n",
       "    <tr>\n",
       "      <th>13</th>\n",
       "      <td>vconst_7</td>\n",
       "      <td>vconst_7</td>\n",
       "      <td>Study</td>\n",
       "    </tr>\n",
       "    <tr>\n",
       "      <th>14</th>\n",
       "      <td>slm_corr</td>\n",
       "      <td>vertical_decay_scale</td>\n",
       "      <td>Run</td>\n",
       "    </tr>\n",
       "    <tr>\n",
       "      <th>15</th>\n",
       "      <td>Prandtl</td>\n",
       "      <td>bckgrnd_vdc_psim</td>\n",
       "      <td>vertical_decay_scale</td>\n",
       "    </tr>\n",
       "    <tr>\n",
       "      <th>16</th>\n",
       "      <td>vertical_decay_scale</td>\n",
       "      <td>vconst_4</td>\n",
       "      <td>ah_bolus</td>\n",
       "    </tr>\n",
       "    <tr>\n",
       "      <th>17</th>\n",
       "      <td>vconst_4</td>\n",
       "      <td>Prandtl</td>\n",
       "      <td>vconst_3</td>\n",
       "    </tr>\n",
       "    <tr>\n",
       "      <th>18</th>\n",
       "      <td>Study</td>\n",
       "      <td>ah_corr</td>\n",
       "      <td>vconst_5</td>\n",
       "    </tr>\n",
       "    <tr>\n",
       "      <th>19</th>\n",
       "      <td>ah_corr</td>\n",
       "      <td>Study</td>\n",
       "      <td>ah_corr</td>\n",
       "    </tr>\n",
       "  </tbody>\n",
       "</table>\n",
       "</div>"
      ],
      "text/plain": [
       "                    SHAP            Importance                 KBest\n",
       "0               vconst_2           vconst_corr           vconst_corr\n",
       "1            vconst_corr              vconst_2              vconst_2\n",
       "2           bckgrnd_vdc1                   Run          bckgrnd_vdc1\n",
       "3           convect_corr          convect_corr          convect_corr\n",
       "4         bckgrnd_vdc_eq          bckgrnd_vdc1        bckgrnd_vdc_eq\n",
       "5                    Run        bckgrnd_vdc_eq              vconst_4\n",
       "6        bckgrnd_vdc_ban              vconst_3       bckgrnd_vdc_ban\n",
       "7          tidal_mix_max         tidal_mix_max              vconst_7\n",
       "8               ah_bolus     efficiency_factor     efficiency_factor\n",
       "9      efficiency_factor              slm_corr         tidal_mix_max\n",
       "10      bckgrnd_vdc_psim       bckgrnd_vdc_ban               Prandtl\n",
       "11              vconst_5              ah_bolus      bckgrnd_vdc_psim\n",
       "12              vconst_3              vconst_5              slm_corr\n",
       "13              vconst_7              vconst_7                 Study\n",
       "14              slm_corr  vertical_decay_scale                   Run\n",
       "15               Prandtl      bckgrnd_vdc_psim  vertical_decay_scale\n",
       "16  vertical_decay_scale              vconst_4              ah_bolus\n",
       "17              vconst_4               Prandtl              vconst_3\n",
       "18                 Study               ah_corr              vconst_5\n",
       "19               ah_corr                 Study               ah_corr"
      ]
     },
     "execution_count": 208,
     "metadata": {},
     "output_type": "execute_result"
    }
   ],
   "source": [
    "fs_df"
   ]
  },
  {
   "cell_type": "code",
   "execution_count": 207,
   "metadata": {},
   "outputs": [
    {
     "data": {
      "text/plain": [
       "<AxesSubplot:>"
      ]
     },
     "execution_count": 207,
     "metadata": {},
     "output_type": "execute_result"
    },
    {
     "data": {
      "image/png": "[encoded data removed]",
      "text/plain": [
       "<Figure size 432x288 with 1 Axes>"
      ]
     },
     "metadata": {
      "needs_background": "light"
     },
     "output_type": "display_data"
    }
   ],
   "source": [
    "# Transforming X from numpy to pandas to recover features\n",
    "X_train_df = pd.DataFrame(X_train, columns=df.drop([\"outcome\"], axis=1).columns)\n",
    "X_test_df = pd.DataFrame(X_test, columns=df.drop([\"outcome\"], axis=1).columns)\n",
    "# Initializing dataframe for results\n",
    "LDA_scores = pd.DataFrame(index=range(fs_df.shape[0]), columns=fs_df.columns)\n",
    "# Filling in LDA scores\n",
    "for num_features in range(fs_df.shape[0]):\n",
    "    fs_df.iloc[:num_features+1]\n",
    "    for method in fs_df.columns:\n",
    "        selected_features = fs_df.iloc[:num_features+1][method]\n",
    "        lda = LinearDiscriminantAnalysis(solver=\"svd\", store_covariance=True)\n",
    "        y_pred = lda.fit(X_train_df[selected_features].values, y_train).predict(X_test_df[selected_features])\n",
    "        LDA_scores.loc[num_features, method] = fbeta_score(y_test, y_pred, beta=1)\n",
    "LDA_scores.plot()"
   ]
  },
  {
   "cell_type": "markdown",
   "metadata": {},
   "source": [
    "# Calculating SHAP for LDA"
   ]
  },
  {
   "cell_type": "code",
   "execution_count": 237,
   "metadata": {},
   "outputs": [],
   "source": [
    "lda = LinearDiscriminantAnalysis(solver=\"svd\", store_covariance=True)\n",
    "lda.fit(X_train_df.values, y_train)\n",
    "y_pred = lda.predict(X_test_df)"
   ]
  },
  {
   "cell_type": "code",
   "execution_count": 238,
   "metadata": {},
   "outputs": [
    {
     "name": "stderr",
     "output_type": "stream",
     "text": [
      "Using 361 background data samples could cause slower run times. Consider using shap.sample(data, K) or shap.kmeans(data, K) to summarize the background as K samples.\n"
     ]
    },
    {
     "data": {
      "application/vnd.jupyter.widget-view+json": {
       "model_id": "e776b7988a6a44d791ce7bc9dd4849be",
       "version_major": 2,
       "version_minor": 0
      },
      "text/plain": [
       "  0%|          | 0/179 [00:00<?, ?it/s]"
      ]
     },
     "metadata": {},
     "output_type": "display_data"
    }
   ],
   "source": [
    "# use Kernel SHAP to explain test set predictions\n",
    "explainer = shap.KernelExplainer(lda.predict_proba, X_train_df, link=\"logit\")\n",
    "shap_values = explainer.shap_values(X_test, nsamples=100)"
   ]
  },
  {
   "cell_type": "code",
   "execution_count": 239,
   "metadata": {},
   "outputs": [
    {
     "data": {
      "text/html": [
       "\n",
       "<div id='i20LNK32ZJ47MNTO0CVCK'>\n",
       "<div style='color: #900; text-align: center;'>\n",
       "  <b>Visualization omitted, Javascript library not loaded!</b><br>\n",
       "  Have you run `initjs()` in this notebook? If this notebook was from another\n",
       "  user you must also trust this notebook (File -> Trust notebook). If you are viewing\n",
       "  this notebook on github the Javascript has been stripped for security. If you are using\n",
       "  JupyterLab this error is because a JupyterLab extension has not yet been written.\n",
       "</div></div>\n",
       " <script>\n",
       "   if (window.SHAP) SHAP.ReactDom.render(\n",
       "    SHAP.React.createElement(SHAP.AdditiveForceVisualizer, {\"outNames\": [\"f(x)\"], \"baseValue\": -2.377880700619477, \"outValue\": -5.791876538028559, \"link\": \"logit\", \"featureNames\": [\"Study\", \"Run\", \"vconst_corr\", \"vconst_2\", \"vconst_3\", \"vconst_4\", \"vconst_5\", \"vconst_7\", \"ah_corr\", \"ah_bolus\", \"slm_corr\", \"efficiency_factor\", \"tidal_mix_max\", \"vertical_decay_scale\", \"convect_corr\", \"bckgrnd_vdc1\", \"bckgrnd_vdc_ban\", \"bckgrnd_vdc_eq\", \"bckgrnd_vdc_psim\", \"Prandtl\"], \"features\": {\"2\": {\"effect\": -2.4488507220009157, \"value\": -1.4001476993468573}, \"15\": {\"effect\": -0.9651451154081663, \"value\": 1.504502091261561}}, \"plot_cmap\": \"RdBu\", \"labelMargin\": 20}),\n",
       "    document.getElementById('i20LNK32ZJ47MNTO0CVCK')\n",
       "  );\n",
       "</script>"
      ],
      "text/plain": [
       "<shap.plots._force.AdditiveForceVisualizer at 0x7fe015d638d0>"
      ]
     },
     "execution_count": 239,
     "metadata": {},
     "output_type": "execute_result"
    }
   ],
   "source": [
    "# plot the SHAP values for the Setosa output of the first instance\n",
    "shap.force_plot(explainer.expected_value[0], shap_values[0][0,:], X_test_df.iloc[0,:], link=\"logit\")"
   ]
  },
  {
   "cell_type": "code",
   "execution_count": 240,
   "metadata": {},
   "outputs": [
    {
     "data": {
      "text/html": [
       "<div>\n",
       "<style scoped>\n",
       "    .dataframe tbody tr th:only-of-type {\n",
       "        vertical-align: middle;\n",
       "    }\n",
       "\n",
       "    .dataframe tbody tr th {\n",
       "        vertical-align: top;\n",
       "    }\n",
       "\n",
       "    .dataframe thead th {\n",
       "        text-align: right;\n",
       "    }\n",
       "</style>\n",
       "<table border=\"1\" class=\"dataframe\">\n",
       "  <thead>\n",
       "    <tr style=\"text-align: right;\">\n",
       "      <th></th>\n",
       "      <th>LDA_SHAP</th>\n",
       "    </tr>\n",
       "  </thead>\n",
       "  <tbody>\n",
       "    <tr>\n",
       "      <th>vconst_2</th>\n",
       "      <td>1.367296</td>\n",
       "    </tr>\n",
       "    <tr>\n",
       "      <th>vconst_corr</th>\n",
       "      <td>1.307037</td>\n",
       "    </tr>\n",
       "    <tr>\n",
       "      <th>bckgrnd_vdc1</th>\n",
       "      <td>0.763086</td>\n",
       "    </tr>\n",
       "    <tr>\n",
       "      <th>convect_corr</th>\n",
       "      <td>0.552012</td>\n",
       "    </tr>\n",
       "    <tr>\n",
       "      <th>bckgrnd_vdc_eq</th>\n",
       "      <td>0.252085</td>\n",
       "    </tr>\n",
       "  </tbody>\n",
       "</table>\n",
       "</div>"
      ],
      "text/plain": [
       "                LDA_SHAP\n",
       "vconst_2        1.367296\n",
       "vconst_corr     1.307037\n",
       "bckgrnd_vdc1    0.763086\n",
       "convect_corr    0.552012\n",
       "bckgrnd_vdc_eq  0.252085"
      ]
     },
     "execution_count": 240,
     "metadata": {},
     "output_type": "execute_result"
    }
   ],
   "source": [
    "lda_shap_df = pd.DataFrame(np.mean(np.abs(shap_values[0]), axis=0), index=X_train_df.columns, columns=[\"LDA_SHAP\"])\n",
    "lda_shap_df.sort_values(by=\"LDA_SHAP\", ascending=False, inplace=True)\n",
    "lda_shap_df.head()"
   ]
  },
  {
   "cell_type": "code",
   "execution_count": 241,
   "metadata": {},
   "outputs": [],
   "source": [
    "fs_df['LDA_SHAP'] = lda_shap_df.index"
   ]
  },
  {
   "cell_type": "code",
   "execution_count": 243,
   "metadata": {},
   "outputs": [
    {
     "data": {
      "text/html": [
       "<div>\n",
       "<style scoped>\n",
       "    .dataframe tbody tr th:only-of-type {\n",
       "        vertical-align: middle;\n",
       "    }\n",
       "\n",
       "    .dataframe tbody tr th {\n",
       "        vertical-align: top;\n",
       "    }\n",
       "\n",
       "    .dataframe thead th {\n",
       "        text-align: right;\n",
       "    }\n",
       "</style>\n",
       "<table border=\"1\" class=\"dataframe\">\n",
       "  <thead>\n",
       "    <tr style=\"text-align: right;\">\n",
       "      <th></th>\n",
       "      <th>SHAP</th>\n",
       "      <th>Importance</th>\n",
       "      <th>KBest</th>\n",
       "      <th>LDA_SHAP</th>\n",
       "    </tr>\n",
       "  </thead>\n",
       "  <tbody>\n",
       "    <tr>\n",
       "      <th>0</th>\n",
       "      <td>vconst_2</td>\n",
       "      <td>vconst_corr</td>\n",
       "      <td>vconst_corr</td>\n",
       "      <td>vconst_2</td>\n",
       "    </tr>\n",
       "    <tr>\n",
       "      <th>1</th>\n",
       "      <td>vconst_corr</td>\n",
       "      <td>vconst_2</td>\n",
       "      <td>vconst_2</td>\n",
       "      <td>vconst_corr</td>\n",
       "    </tr>\n",
       "    <tr>\n",
       "      <th>2</th>\n",
       "      <td>bckgrnd_vdc1</td>\n",
       "      <td>Run</td>\n",
       "      <td>bckgrnd_vdc1</td>\n",
       "      <td>bckgrnd_vdc1</td>\n",
       "    </tr>\n",
       "    <tr>\n",
       "      <th>3</th>\n",
       "      <td>convect_corr</td>\n",
       "      <td>convect_corr</td>\n",
       "      <td>convect_corr</td>\n",
       "      <td>convect_corr</td>\n",
       "    </tr>\n",
       "    <tr>\n",
       "      <th>4</th>\n",
       "      <td>bckgrnd_vdc_eq</td>\n",
       "      <td>bckgrnd_vdc1</td>\n",
       "      <td>bckgrnd_vdc_eq</td>\n",
       "      <td>bckgrnd_vdc_eq</td>\n",
       "    </tr>\n",
       "  </tbody>\n",
       "</table>\n",
       "</div>"
      ],
      "text/plain": [
       "             SHAP    Importance           KBest        LDA_SHAP\n",
       "0        vconst_2   vconst_corr     vconst_corr        vconst_2\n",
       "1     vconst_corr      vconst_2        vconst_2     vconst_corr\n",
       "2    bckgrnd_vdc1           Run    bckgrnd_vdc1    bckgrnd_vdc1\n",
       "3    convect_corr  convect_corr    convect_corr    convect_corr\n",
       "4  bckgrnd_vdc_eq  bckgrnd_vdc1  bckgrnd_vdc_eq  bckgrnd_vdc_eq"
      ]
     },
     "execution_count": 243,
     "metadata": {},
     "output_type": "execute_result"
    }
   ],
   "source": [
    "fs_df.head()"
   ]
  },
  {
   "cell_type": "markdown",
   "metadata": {},
   "source": [
    "# Repeating Evaluation"
   ]
  },
  {
   "cell_type": "code",
   "execution_count": 242,
   "metadata": {},
   "outputs": [
    {
     "data": {
      "text/plain": [
       "<AxesSubplot:>"
      ]
     },
     "execution_count": 242,
     "metadata": {},
     "output_type": "execute_result"
    },
    {
     "data": {
      "image/png": "[encoded data removed]",
      "text/plain": [
       "<Figure size 432x288 with 1 Axes>"
      ]
     },
     "metadata": {
      "needs_background": "light"
     },
     "output_type": "display_data"
    }
   ],
   "source": [
    "# Transforming X from numpy to pandas to recover features\n",
    "X_train_df = pd.DataFrame(X_train, columns=df.drop([\"outcome\"], axis=1).columns)\n",
    "X_test_df = pd.DataFrame(X_test, columns=df.drop([\"outcome\"], axis=1).columns)\n",
    "# Initializing dataframe for results\n",
    "LDA_scores = pd.DataFrame(index=range(fs_df.shape[0]), columns=fs_df.columns)\n",
    "# Filling in LDA scores\n",
    "for num_features in range(fs_df.shape[0]):\n",
    "    fs_df.iloc[:num_features+1]\n",
    "    for method in fs_df.columns:\n",
    "        selected_features = fs_df.iloc[:num_features+1][method]\n",
    "        lda = LinearDiscriminantAnalysis(solver=\"svd\", store_covariance=True)\n",
    "        y_pred = lda.fit(X_train_df[selected_features].values, y_train).predict(X_test_df[selected_features])\n",
    "        LDA_scores.loc[num_features, method] = fbeta_score(y_test, y_pred, beta=1)\n",
    "LDA_scores.plot()"
   ]
  },
  {
   "cell_type": "code",
   "execution_count": null,
   "metadata": {},
   "outputs": [],
   "source": []
  },
  {
   "cell_type": "markdown",
   "metadata": {},
   "source": [
    "- Testar para mais bases de dados\n",
    "    - sonar\n",
    "    - ILPD (poucas features)\n",
    "    - ionosfera\n",
    "    - mfit (fácil)\n",
    "- Cross validation\n",
    "- Influência do modelo nos Shapley Values\n",
    "    - Mesmo modelo, diferentes performances\n",
    "    - Modelos diferentes"
   ]
  },
  {
   "cell_type": "markdown",
   "metadata": {},
   "source": [
    "___\n",
    "\n",
    "Métodos de feature importance (single variable):\n",
    "- Feature score\n",
    "- Correlação\n",
    "- AUC por variavel\n",
    "\n",
    "Resultado do model com as top X variaveis\n",
    "\n",
    "LDA para cada variável-> salvar resultados "
   ]
  },
  {
   "cell_type": "code",
   "execution_count": null,
   "metadata": {},
   "outputs": [],
   "source": []
  }
 ],
 "metadata": {
  "kernelspec": {
   "display_name": "Python 3",
   "language": "python",
   "name": "python3"
  },
  "language_info": {
   "codemirror_mode": {
    "name": "ipython",
    "version": 3
   },
   "file_extension": ".py",
   "mimetype": "text/x-python",
   "name": "python",
   "nbconvert_exporter": "python",
   "pygments_lexer": "ipython3",
   "version": "3.8.5"
  },
  "varInspector": {
   "cols": {
    "lenName": 16,
    "lenType": 16,
    "lenVar": 40
   },
   "kernels_config": {
    "python": {
     "delete_cmd_postfix": "",
     "delete_cmd_prefix": "del ",
     "library": "var_list.py",
     "varRefreshCmd": "print(var_dic_list())"
    },
    "r": {
     "delete_cmd_postfix": ") ",
     "delete_cmd_prefix": "rm(",
     "library": "var_list.r",
     "varRefreshCmd": "cat(var_dic_list()) "
    }
   },
   "types_to_exclude": [
    "module",
    "function",
    "builtin_function_or_method",
    "instance",
    "_Feature"
   ],
   "window_display": false
  }
 },
 "nbformat": 4,
 "nbformat_minor": 2
}
