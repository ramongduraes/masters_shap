{
 "cells": [
  {
   "cell_type": "code",
   "execution_count": 1,
   "metadata": {},
   "outputs": [],
   "source": [
    "def data_generator_1(n):\n",
    "    import numpy as np\n",
    "    X1 = np.random.normal(size = n)\n",
    "    X2 = np.random.normal(size = n)*10\n",
    "    X3 = np.round(np.random.normal(size = n))\n",
    "    X4 = np.ceil(2.*np.random.uniform(size = n))\n",
    "    X5 = np.random.normal(size = n)\n",
    "    X6 = np.random.normal(size = n)\n",
    "    X7 = np.random.normal(size = n)\n",
    "    X8 = np.random.normal(size = n)\n",
    "    X9 = np.ceil(5.*np.random.uniform(size = n))\n",
    "    X10 = np.round(np.random.normal(size = n))\n",
    "    \n",
    "    Y = np.sign(np.tanh(X1**3 + np.sin(X2)-X3**3 + X4*X5))\n",
    "    \n",
    "    X = np.transpose(np.vstack((X1,X2,X3,X4,X5,X6,X7,X8,X9,X10)))\n",
    "    \n",
    "    return X,Y\n",
    "    "
   ]
  },
  {
   "cell_type": "code",
   "execution_count": 18,
   "metadata": {},
   "outputs": [],
   "source": [
    "def data_generator_2(n1):\n",
    "    import numpy as np\n",
    "    from numpy import random as rng\n",
    "    n = 2*n1\n",
    "    X1 = rng.uniform(size = n)\n",
    "    X2 = X1\n",
    "    X3 = X1 + rng.normal(size = n)/5\n",
    "    X4 = X1 + rng.normal(size = n)/5\n",
    "    X5 = X3\n",
    "    X6 = rng.normal(size = n)\n",
    "    X7 = X6 + rng.uniform(size = n)/1000;\n",
    "    X8 = rng.uniform(size = n)\n",
    "    X9 = np.tanh(np.tan(rng.normal(size = n)))\n",
    "    X10 = np.sin(rng.uniform(size = n))\n",
    "    X11 = np.hstack((rng.normal(size = n1),rng.uniform(size = n1)))\n",
    "    X12 = np.ones(n)\n",
    "    X13 = np.tile(np.array([1,0.5]),n1)\n",
    "    X14 = X6 + X8\n",
    "    X15 = X13 + X11\n",
    "    \n",
    "    Y = np.sign(X1 + np.tanh(X3) - 1)\n",
    "    X = np.transpose(np.vstack((X1,X2,X3,X4,X5,X6,X7,X8,X9,X10,X11,X12,X13,X14,X15)))\n",
    "    \n",
    "    return X,Y"
   ]
  },
  {
   "cell_type": "code",
   "execution_count": 21,
   "metadata": {},
   "outputs": [
    {
     "data": {
      "text/plain": [
       "-0.01"
      ]
     },
     "execution_count": 21,
     "metadata": {},
     "output_type": "execute_result"
    }
   ],
   "source": []
  }
 ],
 "metadata": {
  "kernelspec": {
   "display_name": "Python 3",
   "language": "python",
   "name": "python3"
  },
  "language_info": {
   "codemirror_mode": {
    "name": "ipython",
    "version": 3
   },
   "file_extension": ".py",
   "mimetype": "text/x-python",
   "name": "python",
   "nbconvert_exporter": "python",
   "pygments_lexer": "ipython3",
   "version": "3.8.2"
  }
 },
 "nbformat": 4,
 "nbformat_minor": 4
}
