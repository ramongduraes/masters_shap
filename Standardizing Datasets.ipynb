{
 "cells": [
  {
   "cell_type": "code",
   "execution_count": 35,
   "metadata": {},
   "outputs": [],
   "source": [
    "import pandas as pd\n",
    "import os\n",
    "import pickle"
   ]
  },
  {
   "cell_type": "code",
   "execution_count": 7,
   "metadata": {},
   "outputs": [
    {
     "data": {
      "text/plain": [
       "['abalone',\n",
       " 'arcene',\n",
       " 'Arrhythmia',\n",
       " 'BDs',\n",
       " 'BDs.zip',\n",
       " 'BreastCancerCAPES',\n",
       " 'circular',\n",
       " 'DOROTHEA',\n",
       " 'FS_data.zip',\n",
       " 'glass',\n",
       " 'house',\n",
       " 'ILPD',\n",
       " 'ionosphere',\n",
       " 'kddcup99',\n",
       " 'MADELON',\n",
       " 'mfeat',\n",
       " 'pen',\n",
       " 'pop',\n",
       " 'sonar',\n",
       " 'SteelPlatesFault',\n",
       " 'XOR']"
      ]
     },
     "execution_count": 7,
     "metadata": {},
     "output_type": "execute_result"
    }
   ],
   "source": [
    "os.listdir('./data')"
   ]
  },
  {
   "cell_type": "markdown",
   "metadata": {},
   "source": [
    "# Abalone"
   ]
  },
  {
   "cell_type": "code",
   "execution_count": 9,
   "metadata": {},
   "outputs": [
    {
     "data": {
      "text/plain": [
       "['abalone.data',\n",
       " 'abalone.names',\n",
       " 'mf_transform.R',\n",
       " 'X_abaloneMF',\n",
       " 'y_abaloneMF']"
      ]
     },
     "execution_count": 9,
     "metadata": {},
     "output_type": "execute_result"
    }
   ],
   "source": [
    "os.listdir('./data/abalone')"
   ]
  },
  {
   "cell_type": "code",
   "execution_count": 14,
   "metadata": {},
   "outputs": [
    {
     "name": "stdout",
     "output_type": "stream",
     "text": [
      "1. Title of Database: Abalone data\n",
      "\n",
      "2. Sources:\n",
      "\n",
      "   (a) Original owners of database:\n",
      "\tMarine Resources Division\n",
      "\tMarine Research Laboratories - Taroona\n",
      "\tDepartment of Primary Industry and Fisheries, Tasmania\n",
      "\tGPO Box 619F, Hobart, Tasmania 7001, Australia\n",
      "\t(contact: Warwick Nash +61 02 277277, wnash@dpi.tas.gov.au)\n",
      "\n",
      "   (b) Donor of database:\n",
      "\tSam Waugh (Sam.Waugh@cs.utas.edu.au)\n",
      "\tDepartment of Computer Science, University of Tasmania\n",
      "\tGPO Box 252C, Hobart, Tasmania 7001, Australia\n",
      "\n",
      "   (c) Date received: December 1995\n",
      "\n",
      "\n",
      "3. Past Usage:\n",
      "\n",
      "   Sam Waugh (1995) \"Extending and benchmarking Cascade-Correlation\", PhD\n",
      "   thesis, Computer Science Department, University of Tasmania.\n",
      "\n",
      "   -- Test set performance (final 1044 examples, first 3133 used for training):\n",
      "\t24.86% Cascade-Correlation (no hidden nodes)\n",
      "\t26.25% Cascade-Correlation (5 hidden nodes)\n",
      "\t21.5%  C4.5\n",
      "\t 0.0%  Linear Discriminate Analysis\n",
      "\t 3.57% k=5 Nearest Neighbour\n",
      "      (Problem encoded as a classification task)\n",
      "\n",
      "   -- Data set samples are highly overlapped.  Further information is required\n",
      "\tto separate completely using affine combinations.  Other restrictions\n",
      "\tto data set examined.\n",
      "\n",
      "   David Clark, Zoltan Schreter, Anthony Adams \"A Quantitative Comparison of\n",
      "   Dystal and Backpropagation\", submitted to the Australian Conference on\n",
      "   Neural Networks (ACNN'96). Data set treated as a 3-category classification\n",
      "   problem (grouping ring classes 1-8, 9 and 10, and 11 on).\n",
      "\n",
      "   -- Test set performance (3133 training, 1044 testing as above):\n",
      "\t64%    Backprop\n",
      "\t55%    Dystal\n",
      "   -- Previous work (Waugh, 1995) on same data set:\n",
      "\t61.40% Cascade-Correlation (no hidden nodes)\n",
      "\t65.61% Cascade-Correlation (5 hidden nodes)\n",
      "\t59.2%  C4.5\n",
      "\t32.57% Linear Discriminate Analysis\n",
      "\t62.46% k=5 Nearest Neighbour\n",
      "\n",
      "\n",
      "4. Relevant Information Paragraph:\n",
      "\n",
      "   Predicting the age of abalone from physical measurements.  The age of\n",
      "   abalone is determined by cutting the shell through the cone, staining it,\n",
      "   and counting the number of rings through a microscope -- a boring and\n",
      "   time-consuming task.  Other measurements, which are easier to obtain, are\n",
      "   used to predict the age.  Further information, such as weather patterns\n",
      "   and location (hence food availability) may be required to solve the problem.\n",
      "\n",
      "   From the original data examples with missing values were removed (the\n",
      "   majority having the predicted value missing), and the ranges of the\n",
      "   continuous values have been scaled for use with an ANN (by dividing by 200).\n",
      "\n",
      "   Data comes from an original (non-machine-learning) study:\n",
      "\n",
      "\tWarwick J Nash, Tracy L Sellers, Simon R Talbot, Andrew J Cawthorn and\n",
      "\tWes B Ford (1994) \"The Population Biology of Abalone (_Haliotis_\n",
      "\tspecies) in Tasmania. I. Blacklip Abalone (_H. rubra_) from the North\n",
      "\tCoast and Islands of Bass Strait\", Sea Fisheries Division, Technical\n",
      "\tReport No. 48 (ISSN 1034-3288)\n",
      "\n",
      "\n",
      "5. Number of Instances: 4177\n",
      "\n",
      "\n",
      "6. Number of Attributes: 8\n",
      "\n",
      "\n",
      "7. Attribute information:\n",
      "\n",
      "   Given is the attribute name, attribute type, the measurement unit and a\n",
      "   brief description.  The number of rings is the value to predict: either\n",
      "   as a continuous value or as a classification problem.\n",
      "\n",
      "\tName\t\tData Type\tMeas.\tDescription\n",
      "\t----\t\t---------\t-----\t-----------\n",
      "\tSex\t\tnominal\t\t\tM, F, and I (infant)\n",
      "\tLength\t\tcontinuous\tmm\tLongest shell measurement\n",
      "\tDiameter\tcontinuous\tmm\tperpendicular to length\n",
      "\tHeight\t\tcontinuous\tmm\twith meat in shell\n",
      "\tWhole weight\tcontinuous\tgrams\twhole abalone\n",
      "\tShucked weight\tcontinuous\tgrams\tweight of meat\n",
      "\tViscera weight\tcontinuous\tgrams\tgut weight (after bleeding)\n",
      "\tShell weight\tcontinuous\tgrams\tafter being dried\n",
      "\tRings\t\tinteger\t\t\t+1.5 gives the age in years\n",
      "\n",
      "   Statistics for numeric domains:\n",
      "\n",
      "\t\tLength\tDiam\tHeight\tWhole\tShucked\tViscera\tShell\tRings\n",
      "\tMin\t0.075\t0.055\t0.000\t0.002\t0.001\t0.001\t0.002\t    1\n",
      "\tMax\t0.815\t0.650\t1.130\t2.826\t1.488\t0.760\t1.005\t   29\n",
      "\tMean\t0.524\t0.408\t0.140\t0.829\t0.359\t0.181\t0.239\t9.934\n",
      "\tSD\t0.120\t0.099\t0.042\t0.490\t0.222\t0.110\t0.139\t3.224\n",
      "\tCorrel\t0.557\t0.575\t0.557\t0.540\t0.421\t0.504\t0.628\t  1.0\n",
      "\n",
      "\n",
      "8. Missing Attribute Values: None\n",
      "\n",
      "\n",
      "9. Class Distribution:\n",
      "\n",
      "\tClass\tExamples\n",
      "\t-----\t--------\n",
      "\t1\t1\n",
      "\t2\t1\n",
      "\t3\t15\n",
      "\t4\t57\n",
      "\t5\t115\n",
      "\t6\t259\n",
      "\t7\t391\n",
      "\t8\t568\n",
      "\t9\t689\n",
      "\t10\t634\n",
      "\t11\t487\n",
      "\t12\t267\n",
      "\t13\t203\n",
      "\t14\t126\n",
      "\t15\t103\n",
      "\t16\t67\n",
      "\t17\t58\n",
      "\t18\t42\n",
      "\t19\t32\n",
      "\t20\t26\n",
      "\t21\t14\n",
      "\t22\t6\n",
      "\t23\t9\n",
      "\t24\t2\n",
      "\t25\t1\n",
      "\t26\t1\n",
      "\t27\t2\n",
      "\t29\t1\n",
      "\t-----\t----\n",
      "\tTotal\t4177\n",
      "\n"
     ]
    }
   ],
   "source": [
    "with open('./data/abalone/abalone.names') as f:\n",
    "    print(f.read())"
   ]
  },
  {
   "cell_type": "code",
   "execution_count": 24,
   "metadata": {},
   "outputs": [],
   "source": [
    "columns = [\"Sex\", \"Length\", \"Diameter\", \"Height\", \"Whole weight\", \"Shucked weight\", \"Viscera weight\", \"Shell weight\", \"Rings\"]\n",
    "df = pd.read_csv('./data/abalone/abalone.data', header=None, names=columns)"
   ]
  },
  {
   "cell_type": "code",
   "execution_count": 30,
   "metadata": {},
   "outputs": [
    {
     "data": {
      "text/plain": [
       "{1: 0,\n",
       " 2: 0,\n",
       " 3: 0,\n",
       " 4: 0,\n",
       " 5: 0,\n",
       " 6: 0,\n",
       " 7: 0,\n",
       " 8: 0,\n",
       " 9: 1,\n",
       " 10: 1,\n",
       " 11: 2,\n",
       " 12: 2,\n",
       " 13: 2,\n",
       " 14: 2,\n",
       " 15: 2,\n",
       " 16: 2,\n",
       " 17: 2,\n",
       " 18: 2,\n",
       " 19: 2,\n",
       " 20: 2,\n",
       " 21: 2,\n",
       " 22: 2,\n",
       " 23: 2,\n",
       " 24: 2,\n",
       " 25: 2,\n",
       " 26: 2,\n",
       " 27: 2,\n",
       " 28: 2,\n",
       " 29: 2}"
      ]
     },
     "execution_count": 30,
     "metadata": {},
     "output_type": "execute_result"
    }
   ],
   "source": [
    "map = dict(zip(np.arange(1,9), np.repeat(0,8))) \n",
    "map.update(dict(zip(np.arange(9,11), np.repeat(1,2))))\n",
    "map.update(dict(zip(np.arange(11,30), np.repeat(2,29))) )\n",
    "map"
   ]
  },
  {
   "cell_type": "code",
   "execution_count": 32,
   "metadata": {},
   "outputs": [],
   "source": [
    "df['class'] = df.Rings.map(map)\n",
    "df.drop('Rings', axis=1, inplace=True)"
   ]
  },
  {
   "cell_type": "code",
   "execution_count": 34,
   "metadata": {},
   "outputs": [],
   "source": [
    "info = 'multi-class classification problem. \\'class\\' column created using former \\'Rings\\' variable using 0-8 as class 1, 9 and 10 as class 2, and above 11 as class 3'\n",
    "output = 'class'\n",
    "df_dict = {\n",
    "    'info': info,\n",
    "    'output': output,\n",
    "    'data': df\n",
    "}"
   ]
  },
  {
   "cell_type": "code",
   "execution_count": 42,
   "metadata": {},
   "outputs": [],
   "source": [
    "with open('./data/abalone/data.pkl', 'wb') as f:\n",
    "    pickle.dump(df_dict, f)"
   ]
  },
  {
   "cell_type": "markdown",
   "metadata": {},
   "source": [
    "# Arcene"
   ]
  },
  {
   "cell_type": "code",
   "execution_count": 43,
   "metadata": {},
   "outputs": [
    {
     "data": {
      "text/plain": [
       "['arcene.param',\n",
       " 'arcene_test.data',\n",
       " 'arcene_train.data',\n",
       " 'arcene_train.labels',\n",
       " 'arcene_valid.data',\n",
       " 'arcene_valid.labels',\n",
       " 'Dataset.pdf']"
      ]
     },
     "execution_count": 43,
     "metadata": {},
     "output_type": "execute_result"
    }
   ],
   "source": [
    "os.listdir('./data/arcene')"
   ]
  },
  {
   "cell_type": "code",
   "execution_count": null,
   "metadata": {},
   "outputs": [],
   "source": []
  }
 ],
 "metadata": {
  "kernelspec": {
   "display_name": "Python 3",
   "language": "python",
   "name": "python3"
  },
  "language_info": {
   "codemirror_mode": {
    "name": "ipython",
    "version": 3
   },
   "file_extension": ".py",
   "mimetype": "text/x-python",
   "name": "python",
   "nbconvert_exporter": "python",
   "pygments_lexer": "ipython3",
   "version": "3.7.3"
  },
  "varInspector": {
   "cols": {
    "lenName": 16,
    "lenType": 16,
    "lenVar": 40
   },
   "kernels_config": {
    "python": {
     "delete_cmd_postfix": "",
     "delete_cmd_prefix": "del ",
     "library": "var_list.py",
     "varRefreshCmd": "print(var_dic_list())"
    },
    "r": {
     "delete_cmd_postfix": ") ",
     "delete_cmd_prefix": "rm(",
     "library": "var_list.r",
     "varRefreshCmd": "cat(var_dic_list()) "
    }
   },
   "types_to_exclude": [
    "module",
    "function",
    "builtin_function_or_method",
    "instance",
    "_Feature"
   ],
   "window_display": false
  }
 },
 "nbformat": 4,
 "nbformat_minor": 2
}
